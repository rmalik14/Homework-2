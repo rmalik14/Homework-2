{
 "cells": [
  {
   "cell_type": "markdown",
   "id": "c209b646",
   "metadata": {},
   "source": [
    "### Homework #2"
   ]
  },
  {
   "cell_type": "markdown",
   "id": "869ebfd6",
   "metadata": {},
   "source": [
    "1. Round 4.5667 to the nearest hundreth (2 decimals) using a build-in function, round()."
   ]
  },
  {
   "cell_type": "code",
   "execution_count": 1,
   "id": "123658aa",
   "metadata": {},
   "outputs": [
    {
     "data": {
      "text/plain": [
       "4.57"
      ]
     },
     "execution_count": 1,
     "metadata": {},
     "output_type": "execute_result"
    }
   ],
   "source": [
    "round(4.5667,2)"
   ]
  },
  {
   "cell_type": "markdown",
   "id": "9d3f352c",
   "metadata": {},
   "source": [
    "2. Convert \"657\" to an integer data type"
   ]
  },
  {
   "cell_type": "code",
   "execution_count": 3,
   "id": "d5a67683",
   "metadata": {},
   "outputs": [
    {
     "data": {
      "text/plain": [
       "int"
      ]
     },
     "execution_count": 3,
     "metadata": {},
     "output_type": "execute_result"
    }
   ],
   "source": [
    "int(657)\n",
    "type(657)"
   ]
  },
  {
   "cell_type": "markdown",
   "id": "a36f06d4",
   "metadata": {},
   "source": [
    "3. Write a program to get two numbers from a user. Then, create a 6-digit code that is a series of randomly generated numbers between the two numbers given by the user. Print the 6-digit code so all digits are separated by a dash. "
   ]
  },
  {
   "cell_type": "code",
   "execution_count": 41,
   "id": "021c92d4",
   "metadata": {},
   "outputs": [
    {
     "name": "stdout",
     "output_type": "stream",
     "text": [
      "n1+n2\n"
     ]
    }
   ],
   "source": [
    "import random as rand\n",
    "\n",
    "n1=rand.randint(100,999)\n",
    "n2=rand.randint(100,999)\n",
    "\n"
   ]
  },
  {
   "cell_type": "markdown",
   "id": "ee1441a1",
   "metadata": {},
   "source": [
    "4. Write a program to remove ALL the white spaces from the following text:\n",
    "\n",
    "        Hickory, dickory, dock,     \n",
    "        The mouse ran up the clock.   \n",
    "        The clock struck one,   \n",
    "        The mouse ran down,                      \n",
    "        Hickory, dickory, dock                  "
   ]
  },
  {
   "cell_type": "code",
   "execution_count": 17,
   "id": "8bf680f1",
   "metadata": {},
   "outputs": [],
   "source": [
    "line1= \"Hickory, dickory, dock,\"  \n",
    "line2= \"The mouse ran up the clock.\"   \n",
    "line3= \"The clock struck one,\"   \n",
    "line4= \"The mouse ran down,\"                      \n",
    "line5= \"Hickory, dickory, dock\"       "
   ]
  },
  {
   "cell_type": "code",
   "execution_count": 18,
   "id": "59d9c718",
   "metadata": {},
   "outputs": [],
   "source": [
    "line1=line1.strip()\n",
    "line2=line2.strip()\n",
    "line3=line3.strip()\n",
    "line4=line4.strip()\n",
    "line5=line5.strip()"
   ]
  },
  {
   "cell_type": "code",
   "execution_count": 19,
   "id": "11c24618",
   "metadata": {},
   "outputs": [
    {
     "name": "stdout",
     "output_type": "stream",
     "text": [
      "Hickory, dickory, dock,\n",
      "The mouse ran up the clock.\n",
      "The clock struck one,\n",
      "The mouse ran down,\n",
      "Hickory, dickory, dock\n"
     ]
    }
   ],
   "source": [
    "print(f\"{line1}\\n{line2}\\n{line3}\\n{line4}\\n{line5}\")"
   ]
  },
  {
   "cell_type": "markdown",
   "id": "72d87b5b",
   "metadata": {},
   "source": [
    "5. Write a function to calculate the miles per gallon. Get a miles driven and gallons used from a user and call your function to calculate the miles per gallon."
   ]
  },
  {
   "cell_type": "code",
   "execution_count": 46,
   "id": "27be7372",
   "metadata": {},
   "outputs": [
    {
     "name": "stdout",
     "output_type": "stream",
     "text": [
      "Enter miles driven\n",
      "300\n",
      "Enter gallons used\n",
      "35\n",
      "Miles per gallon is 8.571428571428571\n"
     ]
    }
   ],
   "source": [
    "\n",
    "\n",
    "n1 = int(input(\"Enter miles driven\\n\"))\n",
    "n2 = int(input(\"Enter gallons used\\n\"))\n",
    "\n",
    "print(f\"Miles per gallon is {n1/n2}\")"
   ]
  },
  {
   "cell_type": "markdown",
   "id": "1f3942b8",
   "metadata": {},
   "source": [
    "6. Enhance the <b>compute()</b> function created during Module 2. Enhance the function to compute a circle's area and circumference where:\n",
    "\n",
    " - circle's area = 3.14 X (radius X radius)   \n",
    " - circle's circumference = 3.14 X diameter"
   ]
  },
  {
   "cell_type": "code",
   "execution_count": 51,
   "id": "df43daca",
   "metadata": {},
   "outputs": [
    {
     "name": "stdout",
     "output_type": "stream",
     "text": [
      "Please enter radius\n",
      "2\n",
      "Please enter diameter\n",
      "4\n",
      "circle's area is 12.56\n",
      "circle's circumference is 12.56\n"
     ]
    }
   ],
   "source": [
    "\n",
    "n1=int(input(\"Please enter radius\\n\"))\n",
    "n2=int(input(\"Please enter diameter\\n\"))\n",
    "\n",
    "print(f\"circle's area is {3.14 * (n1 * n1)}\")\n",
    "print(f\"circle's circumference is {3.14 * n2}\")"
   ]
  },
  {
   "cell_type": "markdown",
   "id": "7c21655e",
   "metadata": {},
   "source": [
    "## "
   ]
  },
  {
   "cell_type": "markdown",
   "id": "4c5d83bb",
   "metadata": {},
   "source": [
    "7. Write a function called multiply_two() that accepts two parameters. The function should print a message like '15 * 2 = 30'.  Randomly generate two numbers between 1 and 100, then call the function with the two random numbers."
   ]
  },
  {
   "cell_type": "code",
   "execution_count": 77,
   "id": "fe5ca2dc",
   "metadata": {},
   "outputs": [
    {
     "name": "stdout",
     "output_type": "stream",
     "text": [
      "<function multiply_two at 0x000001FBD92A0280>\n"
     ]
    }
   ],
   "source": [
    "def multiply_two(x,y):\n",
    "    x=rand.randint(1,100)\n",
    "    y=rand.randint(1,100)\n",
    "    print(x)\n",
    "    print(f\"x * y = {x*y}\")\n",
    "    \n",
    "print(multiply_two)"
   ]
  },
  {
   "cell_type": "code",
   "execution_count": null,
   "id": "9f83774c",
   "metadata": {},
   "outputs": [],
   "source": []
  },
  {
   "cell_type": "markdown",
   "id": "36865477",
   "metadata": {},
   "source": [
    "8. Create a function for a multiplication table.  Get a number from a user and then call you function which produces a multiplication table for that number.\n",
    "The output should look something like this:\n",
    "\n",
    "        Enter a number: 3\n",
    "        3 X 1 = 3\n",
    "        3 X 2 = 6\n",
    "        3 X 3 = 9\n",
    "        3 X 4 = 12\n",
    "        3 X 5 = 15\n",
    "        3 X 6 = 18\n",
    "        3 X 7 = 21\n",
    "        3 X 8 = 24\n",
    "        3 X 9 = 27"
   ]
  },
  {
   "cell_type": "code",
   "execution_count": 82,
   "id": "b023e863",
   "metadata": {},
   "outputs": [
    {
     "name": "stdout",
     "output_type": "stream",
     "text": [
      "Enter a number\n",
      "3 x 1 = 3\n",
      "3 x 2 = 6\n",
      "3 x 3 = 9\n",
      "3 x 4 = 12\n",
      "3 x 5 = 15\n",
      "3 x 6 = 18\n",
      "3 x 7 = 21\n",
      "3 x 8 = 24\n",
      "3 x 9 = 27\n"
     ]
    }
   ],
   "source": [
    "print('Enter a number')\n",
    "num = 3\n",
    "for i in range(1,10):\n",
    "    print(num,'x',i,'=',num*i)\n"
   ]
  },
  {
   "cell_type": "code",
   "execution_count": null,
   "id": "563c8445",
   "metadata": {},
   "outputs": [],
   "source": []
  }
 ],
 "metadata": {
  "kernelspec": {
   "display_name": "Python 3",
   "language": "python",
   "name": "python3"
  },
  "language_info": {
   "codemirror_mode": {
    "name": "ipython",
    "version": 3
   },
   "file_extension": ".py",
   "mimetype": "text/x-python",
   "name": "python",
   "nbconvert_exporter": "python",
   "pygments_lexer": "ipython3",
   "version": "3.8.8"
  }
 },
 "nbformat": 4,
 "nbformat_minor": 5
}
